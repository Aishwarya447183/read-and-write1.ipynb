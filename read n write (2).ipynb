{
 "cells": [
  {
   "cell_type": "code",
   "execution_count": 2,
   "id": "8e870769-9214-4993-950f-7351a0ee845c",
   "metadata": {},
   "outputs": [],
   "source": [
    "##Q1.\n",
    "#Ans.The fopen() function opens the file specified by filename and associates a stream with it.\n",
    "#different modes of Opening a File\n",
    "#1.Files in Python can be opened with a built-in open() function.\n",
    "#2.In 'r' mode, the file opens in the read mode. \n",
    "#3.In the 'w' mode, the file opens in write mode. \n",
    "#4.In the 'a' mode, the file opens in append mode. \n",
    "#5.In the 'r+' mode, the file opens in the read & write mode."
   ]
  },
  {
   "cell_type": "code",
   "execution_count": 3,
   "id": "f5b5d770-d112-4dfc-b54a-37a51829d884",
   "metadata": {},
   "outputs": [],
   "source": [
    "## example for file opening\n",
    "f = open(\"test.txt\" ,'a' )"
   ]
  },
  {
   "cell_type": "code",
   "execution_count": 4,
   "id": "0d14cd3d-469f-4d9d-9ff2-72ac5470fdc7",
   "metadata": {},
   "outputs": [
    {
     "data": {
      "text/plain": [
       "45"
      ]
     },
     "execution_count": 4,
     "metadata": {},
     "output_type": "execute_result"
    }
   ],
   "source": [
    "f.write(\"this is my first write operation in the file \")"
   ]
  },
  {
   "cell_type": "code",
   "execution_count": 5,
   "id": "c340851a-c446-450b-b73d-dbaa4fed30d0",
   "metadata": {},
   "outputs": [],
   "source": [
    "f.close()"
   ]
  },
  {
   "cell_type": "code",
   "execution_count": 6,
   "id": "d5b56e72-360d-4eb4-b131-13f1e7095921",
   "metadata": {},
   "outputs": [],
   "source": [
    "data=open(\"test.txt\",\"r\")"
   ]
  },
  {
   "cell_type": "code",
   "execution_count": 7,
   "id": "523f6ac7-0879-4c76-af6a-a5ebff149213",
   "metadata": {},
   "outputs": [
    {
     "data": {
      "text/plain": [
       "'this is my first write operation in the file '"
      ]
     },
     "execution_count": 7,
     "metadata": {},
     "output_type": "execute_result"
    }
   ],
   "source": [
    "data.read()"
   ]
  },
  {
   "cell_type": "code",
   "execution_count": 8,
   "id": "97c21fe3-573b-4c61-9e62-136a4e871bf3",
   "metadata": {},
   "outputs": [],
   "source": [
    "#Q2.The close() method closes an open file. You should always close your files, in some cases, due to buffering, changes made to a file may not show until you close the file.\n",
    "#Because files are limited resources managed by the operating system, making sure files are closed after use will protect against hard-to-debug issues like running out of file handles or experiencing corrupted data. The best defense is always to open files with a context manager."
   ]
  },
  {
   "cell_type": "code",
   "execution_count": 22,
   "id": "f582063f-2918-4db5-b645-ede37226852e",
   "metadata": {},
   "outputs": [],
   "source": [
    "##Q3.\n",
    "f = open(\"test.txt\" ,'a' )"
   ]
  },
  {
   "cell_type": "code",
   "execution_count": 23,
   "id": "943bff68-ca58-4e69-b4ec-534db6fa140d",
   "metadata": {},
   "outputs": [
    {
     "data": {
      "text/plain": [
       "33"
      ]
     },
     "execution_count": 23,
     "metadata": {},
     "output_type": "execute_result"
    }
   ],
   "source": [
    "f.write(\"I want to become a data scientist\")"
   ]
  },
  {
   "cell_type": "code",
   "execution_count": 24,
   "id": "85bf7902-180f-4640-af21-25eaafd9ba27",
   "metadata": {},
   "outputs": [],
   "source": [
    "f.close()"
   ]
  },
  {
   "cell_type": "code",
   "execution_count": 25,
   "id": "010d2446-9fc6-44d9-bdfe-a72491e421be",
   "metadata": {},
   "outputs": [],
   "source": [
    "data=open(\"test.txt\",\"r\")"
   ]
  },
  {
   "cell_type": "code",
   "execution_count": 26,
   "id": "f62395f5-8e87-4db2-8125-6e0cfe01a163",
   "metadata": {},
   "outputs": [
    {
     "data": {
      "text/plain": [
       "'this is my first write operation in the file I want to become a data scientistI want to become a data scientistI want to become a data scientist'"
      ]
     },
     "execution_count": 26,
     "metadata": {},
     "output_type": "execute_result"
    }
   ],
   "source": [
    "data.read()"
   ]
  },
  {
   "cell_type": "code",
   "execution_count": null,
   "id": "f2efb85a-dd41-4ccc-aa37-d05db627e0db",
   "metadata": {},
   "outputs": [],
   "source": [
    "##Q4.\n",
    "read():It reads the whole content of the apecified file if no argument is passed.If 'n' is passed,it returns n bytes from the file in the form of string.\n",
    "readline():it reads a single line and returns it in the form of a string.when n is specified it reads atmost n bytes but never exceeds one line.\n",
    "readlines():it returns a list of string form of  read from a file."
   ]
  },
  {
   "cell_type": "code",
   "execution_count": null,
   "id": "07d50a49-a943-4ec8-9b06-4cc1837f30be",
   "metadata": {},
   "outputs": [],
   "source": [
    "##Q5.The with statement works with the open() function to open a file. Unlike open() where you have to close the file with the close() method, the with statement closes the file for you without you telling it to.\n",
    "The with statement works with the open() function to open a file. Unlike open() where you have to close the file with the close() method, the with statement closes the file for you without you telling it to. This is because the with statement calls 2 built-in methods behind the scene – __enter()__ and __exit()__\n"
   ]
  },
  {
   "cell_type": "code",
   "execution_count": null,
   "id": "f8e52daf-bff4-4c49-aa0a-ceb56c469b8a",
   "metadata": {},
   "outputs": [],
   "source": [
    "##Q6.Write() method displays the output but do not provide a new line character.\n",
    "WriteLine() method displays the output and also provides a new line character it the end of the string, This would set a new line for the next output.\n"
   ]
  },
  {
   "cell_type": "code",
   "execution_count": null,
   "id": "89e87f52-65bd-4b70-ab0a-e2f9ee91a97c",
   "metadata": {},
   "outputs": [],
   "source": [
    "#Example for write and writelines\n",
    "f=open(\"data.txt\" ,mode='w')\n",
    "lines_list[\"Aishwarya\\n\",\"Mohan\\n\",\"Renuka\\n\"]\n",
    "f.writelines(lines_)\n",
    "f.close()\n"
   ]
  }
 ],
 "metadata": {
  "kernelspec": {
   "display_name": "Python 3 (ipykernel)",
   "language": "python",
   "name": "python3"
  },
  "language_info": {
   "codemirror_mode": {
    "name": "ipython",
    "version": 3
   },
   "file_extension": ".py",
   "mimetype": "text/x-python",
   "name": "python",
   "nbconvert_exporter": "python",
   "pygments_lexer": "ipython3",
   "version": "3.10.8"
  }
 },
 "nbformat": 4,
 "nbformat_minor": 5
}
